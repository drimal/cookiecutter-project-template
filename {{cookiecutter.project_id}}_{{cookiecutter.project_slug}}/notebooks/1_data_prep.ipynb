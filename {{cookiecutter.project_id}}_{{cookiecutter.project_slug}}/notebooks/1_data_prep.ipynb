{
 "cells": [
  {
   "cell_type": "markdown",
   "id": "a240c7a7",
   "metadata": {},
   "source": [
    "# Step 1: Data Preparation"
   ]
  },
  {
   "cell_type": "markdown",
   "id": "34d06a86",
   "metadata": {},
   "source": [
    "## Description\n",
    "Load and clean data, define project metadata."
   ]
  },
  {
   "cell_type": "code",
   "execution_count": null,
   "id": "51529fc7",
   "metadata": {},
   "outputs": [],
   "source": [
    "import pandas as pd\n",
    "\n",
    "# Example: Load raw data\n",
    "# df = pd.read_csv('../data/raw/example.csv')\n",
    "# df_clean = preprocess(df)\n",
    "# df_clean.to_csv('../data/processed/{{cookiecutter.project_id}}_clean.csv', index=False)"
   ]
  }
 ],
 "metadata": {},
 "nbformat": 4,
 "nbformat_minor": 5
}
