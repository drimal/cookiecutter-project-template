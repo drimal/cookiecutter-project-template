{
 "cells": [
  {
   "cell_type": "markdown",
   "id": "6c30e83f",
   "metadata": {},
   "source": [
    "# Step 2: Core Analysis"
   ]
  },
  {
   "cell_type": "markdown",
   "id": "6c97134f",
   "metadata": {},
   "source": [
    "## Goals\n",
    "Perform exploratory data analysis, modeling, or experiments."
   ]
  },
  {
   "cell_type": "code",
   "execution_count": null,
   "id": "a1f6d8d1",
   "metadata": {},
   "outputs": [],
   "source": [
    "import pandas as pd\n",
    "\n",
    "# Load processed dataset\n",
    "df = pd.read_csv('../data/processed/{{cookiecutter.project_id}}_clean.csv')\n",
    "\n",
    "# Perform some example analysis\n",
    "print(df.head())"
   ]
  }
 ],
 "metadata": {},
 "nbformat": 4,
 "nbformat_minor": 5
}
