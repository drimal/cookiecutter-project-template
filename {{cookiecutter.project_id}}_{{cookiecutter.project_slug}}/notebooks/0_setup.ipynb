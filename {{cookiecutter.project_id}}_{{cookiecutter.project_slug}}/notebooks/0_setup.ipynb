{
 "cells": [
  {
   "cell_type": "markdown",
   "id": "7c14f537",
   "metadata": {},
   "source": [
    "\n",
    "# Setup Notebook\n",
    "\n",
    "This notebook is for project setup and utility function development.\n",
    "\n",
    "- Enables autoreload so changes to `utils.py` are immediately available.\n",
    "- Shows how to write functions from a notebook cell into `src/utils.py` using `%%writefile` magic.\n"
   ]
  },
  {
   "cell_type": "code",
   "execution_count": null,
   "id": "8a2cafec",
   "metadata": {},
   "outputs": [],
   "source": [
    "\n",
    "# Enable autoreload so utils.py updates are always fresh\n",
    "%load_ext autoreload\n",
    "%autoreload 2\n",
    "\n",
    "from src import utils\n"
   ]
  },
  {
   "cell_type": "markdown",
   "id": "b9d01867",
   "metadata": {},
   "source": [
    "\n",
    "## Example: Adding a new function to utils.py\n",
    "\n",
    "Use `%%writefile -a` to append functions into `src/utils.py` directly from the notebook.\n"
   ]
  },
  {
   "cell_type": "code",
   "execution_count": null,
   "id": "e224e06c",
   "metadata": {},
   "outputs": [],
   "source": [
    "\n",
    "%%writefile -a ../src/utils.py\n",
    "# --- Example Helper Function ---\n",
    "\n",
    "def plot_metrics(df, x=\"Run ID\", y=\"Metric\"):\n",
    "    import matplotlib.pyplot as plt\n",
    "    df.plot(x=x, y=y, marker=\"o\", title=\"Metric over Runs\")\n",
    "    plt.show()\n"
   ]
  },
  {
   "cell_type": "markdown",
   "id": "ef254231",
   "metadata": {},
   "source": [
    "\n",
    "## Test the newly added function\n"
   ]
  },
  {
   "cell_type": "code",
   "execution_count": null,
   "id": "b65a6d14",
   "metadata": {},
   "outputs": [],
   "source": [
    "\n",
    "import pandas as pd\n",
    "\n",
    "# Example DataFrame\n",
    "df = pd.DataFrame({\n",
    "    \"Run ID\": [1, 2, 3],\n",
    "    \"Metric\": [0.6, 0.75, 0.82]\n",
    "})\n",
    "\n",
    "# The new function is already available thanks to %autoreload\n",
    "utils.plot_metrics(df)\n"
   ]
  }
 ],
 "metadata": {},
 "nbformat": 4,
 "nbformat_minor": 5
}
